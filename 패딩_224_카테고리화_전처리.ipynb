{
 "cells": [
  {
   "cell_type": "markdown",
   "metadata": {},
   "source": [
    "### 원본 dataset 이미지에 가로 왼쪽 오른쪽에 500씩 패딩하여 정사각형 만들기"
   ]
  },
  {
   "cell_type": "code",
   "execution_count": 2,
   "metadata": {},
   "outputs": [
    {
     "name": "stderr",
     "output_type": "stream",
     "text": [
      "Processing training_image: 100%|██████████| 4070/4070 [10:21<00:00,  6.55it/s]\n",
      "Processing validation_image: 100%|██████████| 951/951 [02:24<00:00,  6.57it/s]"
     ]
    },
    {
     "name": "stdout",
     "output_type": "stream",
     "text": [
      "\n",
      "Padding completed!\n",
      "Total images processed successfully: 5021\n",
      "Total images failed: 0\n"
     ]
    },
    {
     "name": "stderr",
     "output_type": "stream",
     "text": [
      "\n"
     ]
    }
   ],
   "source": [
    "import os\n",
    "from PIL import Image\n",
    "from tqdm import tqdm\n",
    "\n",
    "def pad_images(origin_path, dest_path, padding_color='black'):\n",
    "    \"\"\"\n",
    "    지정된 폴더 내의 이미지들에 패딩을 추가하고 새 폴더에 저장하는 함수\n",
    "    \n",
    "    :param origin_path: 원본 이미지가 있는 상위 폴더 경로\n",
    "    :param dest_path: 패딩된 이미지를 저장할 상위 폴더 경로\n",
    "    :param padding_color: 패딩에 사용할 색상 (기본값: 흰색)\n",
    "    \"\"\"\n",
    "    total_processed = 0  # 성공적으로 처리된 이미지 수\n",
    "    total_errors = 0  # 처리 중 오류가 발생한 이미지 수\n",
    "\n",
    "    # 'training_image'와 'validation_image' 폴더를 순차적으로 처리\n",
    "    for folder in ['training_image', 'validation_image']:\n",
    "        src_folder = os.path.join(origin_path, folder)  # 원본 이미지 폴더 경로\n",
    "        dest_folder = os.path.join(dest_path, folder)  # 패딩된 이미지를 저장할 폴더 경로\n",
    "        \n",
    "        # 대상 폴더가 없으면 생성\n",
    "        if not os.path.exists(dest_folder):\n",
    "            os.makedirs(dest_folder)\n",
    "\n",
    "        # 처리할 jpg 이미지 파일 목록 생성\n",
    "        images = [f for f in os.listdir(src_folder) if f.endswith('.jpg')]\n",
    "        \n",
    "        # tqdm을 사용하여 진행 상황을 표시하면서 각 이미지 처리\n",
    "        for filename in tqdm(images, desc=f\"Processing {folder}\"):\n",
    "            try:\n",
    "                # 이미지 열기\n",
    "                with Image.open(os.path.join(src_folder, filename)) as img:\n",
    "                    width, height = img.size\n",
    "                    new_width = width + 1000  # 양쪽에 500픽셀씩 추가\n",
    "                    \n",
    "                    # 새 이미지 생성 (패딩 추가)\n",
    "                    new_img = Image.new(img.mode, (new_width, height), padding_color)\n",
    "                    new_img.paste(img, (500, 0))  # 원본 이미지를 새 이미지의 중앙에 붙이기\n",
    "                    \n",
    "                    # 패딩된 이미지 저장\n",
    "                    new_img.save(os.path.join(dest_folder, filename))\n",
    "                total_processed += 1\n",
    "            except Exception as e:\n",
    "                total_errors += 1\n",
    "                print(f\"\\nError processing {filename}: {str(e)}\")\n",
    "\n",
    "    # 처리 결과 출력\n",
    "    print(f\"\\nPadding completed!\")\n",
    "    print(f\"Total images processed successfully: {total_processed}\")\n",
    "    print(f\"Total images failed: {total_errors}\")\n",
    "\n",
    "if __name__ == \"__main__\":\n",
    "    # 메인 경로 설정\n",
    "    origin_path = \"C:/Users/prohe/OneDrive/Desktop/github_manage/DCC/dataset\"  # 원본 이미지가 있는 상위 폴더 경로\n",
    "    dest_path = \"C:/Users/prohe/OneDrive/Desktop/github_manage/DCC/b_pad_resized_data\"  # 패딩된 이미지를 저장할 상위 폴더 경로\n",
    "\n",
    "    # 이미지 패딩 함수 호출\n",
    "    pad_images(origin_path, dest_path)"
   ]
  },
  {
   "cell_type": "markdown",
   "metadata": {},
   "source": [
    "### 이후 224로 resize 하기"
   ]
  },
  {
   "cell_type": "code",
   "execution_count": 6,
   "metadata": {},
   "outputs": [
    {
     "name": "stdout",
     "output_type": "stream",
     "text": [
      "\n",
      "Processing pad_training_image folder:\n"
     ]
    },
    {
     "name": "stderr",
     "output_type": "stream",
     "text": [
      "Resizing pad_training_image: 100%|██████████| 4070/4070 [06:04<00:00, 11.16it/s]\n"
     ]
    },
    {
     "ename": "FileNotFoundError",
     "evalue": "[Errno 2] No such file or directory: '/home/shinds/my document/pad/pad_validation_image'",
     "output_type": "error",
     "traceback": [
      "\u001b[0;31m---------------------------------------------------------------------------\u001b[0m",
      "\u001b[0;31mFileNotFoundError\u001b[0m                         Traceback (most recent call last)",
      "Cell \u001b[0;32mIn[6], line 47\u001b[0m\n\u001b[1;32m     44\u001b[0m \u001b[38;5;28;01mif\u001b[39;00m \u001b[38;5;129;01mnot\u001b[39;00m os\u001b[38;5;241m.\u001b[39mpath\u001b[38;5;241m.\u001b[39mexists(dest_folder):\n\u001b[1;32m     45\u001b[0m     os\u001b[38;5;241m.\u001b[39mmakedirs(dest_folder)\n\u001b[0;32m---> 47\u001b[0m \u001b[43mresize_imgs\u001b[49m\u001b[43m(\u001b[49m\u001b[43morigin_path\u001b[49m\u001b[43m,\u001b[49m\u001b[43m \u001b[49m\u001b[43mdest_folder\u001b[49m\u001b[43m)\u001b[49m\n",
      "Cell \u001b[0;32mIn[6], line 16\u001b[0m, in \u001b[0;36mresize_imgs\u001b[0;34m(origin_path, dest_path)\u001b[0m\n\u001b[1;32m     13\u001b[0m     os\u001b[38;5;241m.\u001b[39mmakedirs(dest_folder)\n\u001b[1;32m     15\u001b[0m \u001b[38;5;66;03m# 전체 이미지 수 계산\u001b[39;00m\n\u001b[0;32m---> 16\u001b[0m total_images \u001b[38;5;241m=\u001b[39m \u001b[38;5;28msum\u001b[39m(\u001b[38;5;241m1\u001b[39m \u001b[38;5;28;01mfor\u001b[39;00m filename \u001b[38;5;129;01min\u001b[39;00m \u001b[43mos\u001b[49m\u001b[38;5;241;43m.\u001b[39;49m\u001b[43mlistdir\u001b[49m\u001b[43m(\u001b[49m\u001b[43msrc_folder\u001b[49m\u001b[43m)\u001b[49m \u001b[38;5;28;01mif\u001b[39;00m filename\u001b[38;5;241m.\u001b[39mendswith(\u001b[38;5;124m'\u001b[39m\u001b[38;5;124m.jpg\u001b[39m\u001b[38;5;124m'\u001b[39m))\n\u001b[1;32m     18\u001b[0m \u001b[38;5;28mprint\u001b[39m(\u001b[38;5;124mf\u001b[39m\u001b[38;5;124m\"\u001b[39m\u001b[38;5;130;01m\\n\u001b[39;00m\u001b[38;5;124mProcessing \u001b[39m\u001b[38;5;132;01m{\u001b[39;00msrc\u001b[38;5;132;01m}\u001b[39;00m\u001b[38;5;124m folder:\u001b[39m\u001b[38;5;124m\"\u001b[39m)\n\u001b[1;32m     19\u001b[0m \u001b[38;5;28;01mfor\u001b[39;00m filename \u001b[38;5;129;01min\u001b[39;00m tqdm(os\u001b[38;5;241m.\u001b[39mlistdir(src_folder), total\u001b[38;5;241m=\u001b[39mtotal_images, desc\u001b[38;5;241m=\u001b[39m\u001b[38;5;124mf\u001b[39m\u001b[38;5;124m\"\u001b[39m\u001b[38;5;124mResizing \u001b[39m\u001b[38;5;132;01m{\u001b[39;00msrc\u001b[38;5;132;01m}\u001b[39;00m\u001b[38;5;124m\"\u001b[39m):\n",
      "\u001b[0;31mFileNotFoundError\u001b[0m: [Errno 2] No such file or directory: '/home/shinds/my document/pad/pad_validation_image'"
     ]
    }
   ],
   "source": [
    "\n",
    "def resize_imgs(origin_path, dest_path):\n",
    "    total_processed = 0\n",
    "    total_errors = 0\n",
    "\n",
    "    for src in ['pad_training_image', 'pad_val_image']:\n",
    "        src_folder = os.path.join(origin_path, src)\n",
    "        dest_folder = os.path.join(dest_path, src)\n",
    "        if not os.path.exists(dest_folder):\n",
    "            os.makedirs(dest_folder)\n",
    "\n",
    "        # 전체 이미지 수 계산\n",
    "        total_images = sum(1 for filename in os.listdir(src_folder) if filename.endswith('.jpg'))\n",
    "\n",
    "        print(f\"\\nProcessing {src} folder:\")\n",
    "        for filename in tqdm(os.listdir(src_folder), total=total_images, desc=f\"Resizing {src}\"):\n",
    "            if filename.endswith('.jpg'):\n",
    "                try:\n",
    "                    input_path = os.path.join(src_folder, filename)\n",
    "                    output_path = os.path.join(dest_folder, filename)\n",
    "                    img = Image.open(input_path)\n",
    "                    img_resized = img.resize((224, 224), Image.LANCZOS)\n",
    "                    img_resized.save(output_path)\n",
    "                    total_processed += 1\n",
    "                except Exception as e:\n",
    "                    total_errors += 1\n",
    "                    print(f\"\\nError processing {filename}: {str(e)}\")\n",
    "\n",
    "    print(f\"\\nResizing completed!\")\n",
    "    print(f\"Total images processed successfully: {total_processed}\")\n",
    "    print(f\"Total images failed: {total_errors}\")\n",
    "\n",
    "\n",
    "if __name__ == \"__main__\":\n",
    "    # path 지정\n",
    "    MAIN_PATH = \"/home/shinds/my document\"\n",
    "    origin_path = os.path.join(MAIN_PATH, \"pad\")\n",
    "    dest_folder = os.path.join(MAIN_PATH, \"pad_resized_data\")\n",
    "\n",
    "    # 새로 resized 된 파일을 저장할 폴더가 없다면 생성\n",
    "    if not os.path.exists(dest_folder):\n",
    "        os.makedirs(dest_folder)\n",
    "\n",
    "    resize_imgs(origin_path, dest_folder)"
   ]
  },
  {
   "cell_type": "markdown",
   "metadata": {},
   "source": [
    "### 이미지 카테고리화"
   ]
  },
  {
   "cell_type": "code",
   "execution_count": 9,
   "metadata": {},
   "outputs": [
    {
     "name": "stdout",
     "output_type": "stream",
     "text": [
      "Images are categorized successfully! ==> Total images processed: 4070 / Total images failed: 0\n",
      "Images are categorized successfully! ==> Total images processed: 951 / Total images failed: 0\n"
     ]
    }
   ],
   "source": [
    "import shutil\n",
    "def categorize_imgs(src, dest_dir):\n",
    "    # src_folder 지정\n",
    "    src_folder = os.path.join('./pad_resized_data', src)\n",
    "    \n",
    "    # dest_folder 지정(폴더가 없다면 생성)\n",
    "    dest_folder = os.path.join(dest_dir, src)\n",
    "    if not os.path.exists(dest_folder):\n",
    "        os.makedirs(dest_folder)\n",
    "    \n",
    "    # 오류 발생을 대비하여 처리된 이미지 수 추적\n",
    "    processed_count = 0\n",
    "    error_count = 0\n",
    "    \n",
    "    # src_folder의 모든 파일을 가져옴\n",
    "    for filename in os.listdir(src_folder):\n",
    "        if filename.endswith('.jpg'):\n",
    "            try:\n",
    "                # 파일명에서 style 정보 추출\n",
    "                style = filename.split('_')[-2]\n",
    "\n",
    "                # style에 해당하는 폴더가 없다면 생성\n",
    "                style_folder = os.path.join(dest_folder, style)\n",
    "                if not os.path.exists(style_folder):\n",
    "                    os.makedirs(style_folder)\n",
    "                \n",
    "                # 원본 이미지 복사(copy2: metadata까지 복사)\n",
    "                src_path = os.path.join(src_folder, filename)\n",
    "                dest_path = os.path.join(style_folder, filename)\n",
    "                shutil.copy2(src_path, dest_path)\n",
    "\n",
    "                # 정상적으로 처리하였을 경우 count 증가\n",
    "                processed_count += 1\n",
    "    \n",
    "            except Exception as e:\n",
    "                # 에러가 발생하여 변환에 실패하면 에러 메시지 출력\n",
    "                error_count += 1\n",
    "                print(f\"Error processing {filename}: {str(e)}\")\n",
    "\n",
    "    print(f\"Images are categorized successfully! ==> Total images processed: {processed_count} / Total images failed: {error_count}\")\n",
    "\n",
    "\n",
    "if __name__ == \"__main__\":\n",
    "    # 데이터가 묶여서 저장될 폴더\n",
    "    dest_dir = './categorized_data'\n",
    "    # 새로 만들어질 폴더가 없다면 생성\n",
    "    if not os.path.exists(dest_dir):\n",
    "        os.makedirs(dest_dir)\n",
    "\n",
    "    # source data가 있는 폴더 지정\n",
    "    train_path = \"pad_training_image\"\n",
    "    val_path = \"pad_val_image\"\n",
    "\n",
    "    # style 별로 이미지 분류\n",
    "    categorize_imgs(train_path, dest_dir)\n",
    "    categorize_imgs(val_path, dest_dir)"
   ]
  },
  {
   "cell_type": "code",
   "execution_count": null,
   "metadata": {},
   "outputs": [],
   "source": []
  }
 ],
 "metadata": {
  "kernelspec": {
   "display_name": "py38",
   "language": "python",
   "name": "python3"
  },
  "language_info": {
   "codemirror_mode": {
    "name": "ipython",
    "version": 3
   },
   "file_extension": ".py",
   "mimetype": "text/x-python",
   "name": "python",
   "nbconvert_exporter": "python",
   "pygments_lexer": "ipython3",
   "version": "3.8.19"
  }
 },
 "nbformat": 4,
 "nbformat_minor": 2
}
